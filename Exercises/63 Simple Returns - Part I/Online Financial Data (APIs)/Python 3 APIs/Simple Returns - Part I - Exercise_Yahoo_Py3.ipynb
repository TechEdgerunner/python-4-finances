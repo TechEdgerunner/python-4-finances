{
 "cells": [
  {
   "cell_type": "markdown",
   "metadata": {},
   "source": [
    "## Simpler Returns - Part I"
   ]
  },
  {
   "cell_type": "markdown",
   "metadata": {},
   "source": [
    "Download the data for Microsoft (‘MSFT’) from Yahoo Finance for the period ‘2000-1-1’ until today."
   ]
  },
  {
   "cell_type": "code",
   "execution_count": 2,
   "metadata": {
    "collapsed": true
   },
   "outputs": [
    {
     "name": "stderr",
     "output_type": "stream",
     "text": [
      "[*********************100%%**********************]  1 of 1 completed\n"
     ]
    }
   ],
   "source": [
    "import numpy as np\n",
    "import pandas as pd\n",
    "import yfinance as yf\n",
    "\n",
    "\n",
    "microsoft = yf.download('MSFT', start='2000-1-1')"
   ]
  },
  {
   "cell_type": "markdown",
   "metadata": {},
   "source": [
    "Apply the .**head()** and **.tail()** methods to check if the data is ok. Always pay attention to the dates. Try to get an idea about how the stock price changed during the period."
   ]
  },
  {
   "cell_type": "code",
   "execution_count": 3,
   "metadata": {
    "collapsed": true
   },
   "outputs": [
    {
     "data": {
      "text/html": [
       "<div>\n",
       "<style scoped>\n",
       "    .dataframe tbody tr th:only-of-type {\n",
       "        vertical-align: middle;\n",
       "    }\n",
       "\n",
       "    .dataframe tbody tr th {\n",
       "        vertical-align: top;\n",
       "    }\n",
       "\n",
       "    .dataframe thead th {\n",
       "        text-align: right;\n",
       "    }\n",
       "</style>\n",
       "<table border=\"1\" class=\"dataframe\">\n",
       "  <thead>\n",
       "    <tr style=\"text-align: right;\">\n",
       "      <th></th>\n",
       "      <th>Open</th>\n",
       "      <th>High</th>\n",
       "      <th>Low</th>\n",
       "      <th>Close</th>\n",
       "      <th>Adj Close</th>\n",
       "      <th>Volume</th>\n",
       "    </tr>\n",
       "    <tr>\n",
       "      <th>Date</th>\n",
       "      <th></th>\n",
       "      <th></th>\n",
       "      <th></th>\n",
       "      <th></th>\n",
       "      <th></th>\n",
       "      <th></th>\n",
       "    </tr>\n",
       "  </thead>\n",
       "  <tbody>\n",
       "    <tr>\n",
       "      <th>2000-01-03</th>\n",
       "      <td>58.68750</td>\n",
       "      <td>59.3125</td>\n",
       "      <td>56.00000</td>\n",
       "      <td>58.28125</td>\n",
       "      <td>35.935860</td>\n",
       "      <td>53228400</td>\n",
       "    </tr>\n",
       "    <tr>\n",
       "      <th>2000-01-04</th>\n",
       "      <td>56.78125</td>\n",
       "      <td>58.5625</td>\n",
       "      <td>56.12500</td>\n",
       "      <td>56.31250</td>\n",
       "      <td>34.721958</td>\n",
       "      <td>54119000</td>\n",
       "    </tr>\n",
       "    <tr>\n",
       "      <th>2000-01-05</th>\n",
       "      <td>55.56250</td>\n",
       "      <td>58.1875</td>\n",
       "      <td>54.68750</td>\n",
       "      <td>56.90625</td>\n",
       "      <td>35.088043</td>\n",
       "      <td>64059600</td>\n",
       "    </tr>\n",
       "    <tr>\n",
       "      <th>2000-01-06</th>\n",
       "      <td>56.09375</td>\n",
       "      <td>56.9375</td>\n",
       "      <td>54.18750</td>\n",
       "      <td>55.00000</td>\n",
       "      <td>33.912643</td>\n",
       "      <td>54976600</td>\n",
       "    </tr>\n",
       "    <tr>\n",
       "      <th>2000-01-07</th>\n",
       "      <td>54.31250</td>\n",
       "      <td>56.1250</td>\n",
       "      <td>53.65625</td>\n",
       "      <td>55.71875</td>\n",
       "      <td>34.355835</td>\n",
       "      <td>62013600</td>\n",
       "    </tr>\n",
       "  </tbody>\n",
       "</table>\n",
       "</div>"
      ],
      "text/plain": [
       "                Open     High       Low     Close  Adj Close    Volume\n",
       "Date                                                                  \n",
       "2000-01-03  58.68750  59.3125  56.00000  58.28125  35.935860  53228400\n",
       "2000-01-04  56.78125  58.5625  56.12500  56.31250  34.721958  54119000\n",
       "2000-01-05  55.56250  58.1875  54.68750  56.90625  35.088043  64059600\n",
       "2000-01-06  56.09375  56.9375  54.18750  55.00000  33.912643  54976600\n",
       "2000-01-07  54.31250  56.1250  53.65625  55.71875  34.355835  62013600"
      ]
     },
     "execution_count": 3,
     "metadata": {},
     "output_type": "execute_result"
    }
   ],
   "source": [
    "microsoft.head()"
   ]
  },
  {
   "cell_type": "code",
   "execution_count": 4,
   "metadata": {
    "collapsed": true
   },
   "outputs": [
    {
     "data": {
      "text/html": [
       "<div>\n",
       "<style scoped>\n",
       "    .dataframe tbody tr th:only-of-type {\n",
       "        vertical-align: middle;\n",
       "    }\n",
       "\n",
       "    .dataframe tbody tr th {\n",
       "        vertical-align: top;\n",
       "    }\n",
       "\n",
       "    .dataframe thead th {\n",
       "        text-align: right;\n",
       "    }\n",
       "</style>\n",
       "<table border=\"1\" class=\"dataframe\">\n",
       "  <thead>\n",
       "    <tr style=\"text-align: right;\">\n",
       "      <th></th>\n",
       "      <th>Open</th>\n",
       "      <th>High</th>\n",
       "      <th>Low</th>\n",
       "      <th>Close</th>\n",
       "      <th>Adj Close</th>\n",
       "      <th>Volume</th>\n",
       "    </tr>\n",
       "    <tr>\n",
       "      <th>Date</th>\n",
       "      <th></th>\n",
       "      <th></th>\n",
       "      <th></th>\n",
       "      <th></th>\n",
       "      <th></th>\n",
       "      <th></th>\n",
       "    </tr>\n",
       "  </thead>\n",
       "  <tbody>\n",
       "    <tr>\n",
       "      <th>2024-08-12</th>\n",
       "      <td>407.059998</td>\n",
       "      <td>408.760010</td>\n",
       "      <td>404.239990</td>\n",
       "      <td>406.809998</td>\n",
       "      <td>406.078064</td>\n",
       "      <td>16762900</td>\n",
       "    </tr>\n",
       "    <tr>\n",
       "      <th>2024-08-13</th>\n",
       "      <td>409.589996</td>\n",
       "      <td>414.950012</td>\n",
       "      <td>409.570007</td>\n",
       "      <td>414.010010</td>\n",
       "      <td>413.265137</td>\n",
       "      <td>19414300</td>\n",
       "    </tr>\n",
       "    <tr>\n",
       "      <th>2024-08-14</th>\n",
       "      <td>414.799988</td>\n",
       "      <td>417.720001</td>\n",
       "      <td>412.450012</td>\n",
       "      <td>416.859985</td>\n",
       "      <td>416.109985</td>\n",
       "      <td>18267000</td>\n",
       "    </tr>\n",
       "    <tr>\n",
       "      <th>2024-08-15</th>\n",
       "      <td>419.799988</td>\n",
       "      <td>421.109985</td>\n",
       "      <td>417.660004</td>\n",
       "      <td>421.029999</td>\n",
       "      <td>421.029999</td>\n",
       "      <td>20752100</td>\n",
       "    </tr>\n",
       "    <tr>\n",
       "      <th>2024-08-16</th>\n",
       "      <td>420.850006</td>\n",
       "      <td>421.339996</td>\n",
       "      <td>417.299988</td>\n",
       "      <td>419.040009</td>\n",
       "      <td>419.040009</td>\n",
       "      <td>13470852</td>\n",
       "    </tr>\n",
       "  </tbody>\n",
       "</table>\n",
       "</div>"
      ],
      "text/plain": [
       "                  Open        High         Low       Close   Adj Close  \\\n",
       "Date                                                                     \n",
       "2024-08-12  407.059998  408.760010  404.239990  406.809998  406.078064   \n",
       "2024-08-13  409.589996  414.950012  409.570007  414.010010  413.265137   \n",
       "2024-08-14  414.799988  417.720001  412.450012  416.859985  416.109985   \n",
       "2024-08-15  419.799988  421.109985  417.660004  421.029999  421.029999   \n",
       "2024-08-16  420.850006  421.339996  417.299988  419.040009  419.040009   \n",
       "\n",
       "              Volume  \n",
       "Date                  \n",
       "2024-08-12  16762900  \n",
       "2024-08-13  19414300  \n",
       "2024-08-14  18267000  \n",
       "2024-08-15  20752100  \n",
       "2024-08-16  13470852  "
      ]
     },
     "execution_count": 4,
     "metadata": {},
     "output_type": "execute_result"
    }
   ],
   "source": [
    "microsoft.tail()"
   ]
  },
  {
   "cell_type": "markdown",
   "metadata": {
    "collapsed": true
   },
   "source": [
    "### Simple Rate of Return"
   ]
  },
  {
   "cell_type": "markdown",
   "metadata": {},
   "source": [
    "Calculate the simple returns of ‘MSFT’ for the given timeframe."
   ]
  },
  {
   "cell_type": "markdown",
   "metadata": {},
   "source": [
    "$$\n",
    "\\frac{P_1 - P_0}{P_0} = \\frac{P_1}{P_0} - 1\n",
    "$$"
   ]
  },
  {
   "cell_type": "code",
   "execution_count": 13,
   "metadata": {
    "collapsed": true
   },
   "outputs": [
    {
     "name": "stdout",
     "output_type": "stream",
     "text": [
      "                  Open        High         Low       Close   Adj Close  \\\n",
      "Date                                                                     \n",
      "2000-01-03   58.687500   59.312500   56.000000   58.281250   35.935860   \n",
      "2000-01-04   56.781250   58.562500   56.125000   56.312500   34.721958   \n",
      "2000-01-05   55.562500   58.187500   54.687500   56.906250   35.088043   \n",
      "2000-01-06   56.093750   56.937500   54.187500   55.000000   33.912643   \n",
      "2000-01-07   54.312500   56.125000   53.656250   55.718750   34.355835   \n",
      "...                ...         ...         ...         ...         ...   \n",
      "2024-08-12  407.059998  408.760010  404.239990  406.809998  406.078064   \n",
      "2024-08-13  409.589996  414.950012  409.570007  414.010010  413.265137   \n",
      "2024-08-14  414.799988  417.720001  412.450012  416.859985  416.109985   \n",
      "2024-08-15  419.799988  421.109985  417.660004  421.029999  421.029999   \n",
      "2024-08-16  420.850006  421.339996  417.299988  419.040009  419.040009   \n",
      "\n",
      "              Volume  simple_return  \n",
      "Date                                 \n",
      "2000-01-03  53228400            NaN  \n",
      "2000-01-04  54119000      -0.033780  \n",
      "2000-01-05  64059600       0.010543  \n",
      "2000-01-06  54976600      -0.033499  \n",
      "2000-01-07  62013600       0.013069  \n",
      "...              ...            ...  \n",
      "2024-08-12  16762900       0.001946  \n",
      "2024-08-13  19414300       0.017699  \n",
      "2024-08-14  18267000       0.006884  \n",
      "2024-08-15  20752100       0.011824  \n",
      "2024-08-16  13470852      -0.004726  \n",
      "\n",
      "[6195 rows x 7 columns]\n"
     ]
    }
   ],
   "source": [
    "microsoft['simple_return'] = (microsoft['Adj Close'] / microsoft['Adj Close'].shift(1)) - 1\n",
    "print (microsoft)\n",
    "\n"
   ]
  }
 ],
 "metadata": {
  "kernelspec": {
   "display_name": "Python 3",
   "language": "python",
   "name": "python3"
  },
  "language_info": {
   "codemirror_mode": {
    "name": "ipython",
    "version": 3
   },
   "file_extension": ".py",
   "mimetype": "text/x-python",
   "name": "python",
   "nbconvert_exporter": "python",
   "pygments_lexer": "ipython3",
   "version": "3.10.12"
  }
 },
 "nbformat": 4,
 "nbformat_minor": 2
}
