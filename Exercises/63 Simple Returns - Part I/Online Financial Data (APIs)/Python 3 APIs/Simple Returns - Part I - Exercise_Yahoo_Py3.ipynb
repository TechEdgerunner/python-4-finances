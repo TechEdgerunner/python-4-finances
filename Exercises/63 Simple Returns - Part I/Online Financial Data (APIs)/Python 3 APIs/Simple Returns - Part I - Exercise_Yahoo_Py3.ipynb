{
 "cells": [
  {
   "cell_type": "markdown",
   "metadata": {},
   "source": [
    "## Simpler Returns - Part I"
   ]
  },
  {
   "cell_type": "markdown",
   "metadata": {},
   "source": [
    "Download the data for Microsoft (‘MSFT’) from Yahoo Finance for the period ‘2000-1-1’ until today."
   ]
  },
  {
   "cell_type": "code",
   "execution_count": 1,
   "metadata": {
    "collapsed": true
   },
   "outputs": [
    {
     "name": "stderr",
     "output_type": "stream",
     "text": [
      "[*********************100%%**********************]  1 of 1 completed\n"
     ]
    }
   ],
   "source": [
    "import yfinance as yf\n",
    "import pandas as pd\n",
    "import numpy as np\n",
    "\n",
    "microsoft = yf.download('MSFT', start='2000-01-01')"
   ]
  },
  {
   "cell_type": "markdown",
   "metadata": {},
   "source": [
    "Apply the .**head()** and **.tail()** methods to check if the data is ok. Always pay attention to the dates. Try to get an idea about how the stock price changed during the period."
   ]
  },
  {
   "cell_type": "code",
   "execution_count": 2,
   "metadata": {
    "collapsed": true
   },
   "outputs": [
    {
     "data": {
      "text/html": [
       "<div>\n",
       "<style scoped>\n",
       "    .dataframe tbody tr th:only-of-type {\n",
       "        vertical-align: middle;\n",
       "    }\n",
       "\n",
       "    .dataframe tbody tr th {\n",
       "        vertical-align: top;\n",
       "    }\n",
       "\n",
       "    .dataframe thead th {\n",
       "        text-align: right;\n",
       "    }\n",
       "</style>\n",
       "<table border=\"1\" class=\"dataframe\">\n",
       "  <thead>\n",
       "    <tr style=\"text-align: right;\">\n",
       "      <th></th>\n",
       "      <th>Open</th>\n",
       "      <th>High</th>\n",
       "      <th>Low</th>\n",
       "      <th>Close</th>\n",
       "      <th>Adj Close</th>\n",
       "      <th>Volume</th>\n",
       "    </tr>\n",
       "    <tr>\n",
       "      <th>Date</th>\n",
       "      <th></th>\n",
       "      <th></th>\n",
       "      <th></th>\n",
       "      <th></th>\n",
       "      <th></th>\n",
       "      <th></th>\n",
       "    </tr>\n",
       "  </thead>\n",
       "  <tbody>\n",
       "    <tr>\n",
       "      <th>2000-01-03</th>\n",
       "      <td>58.68750</td>\n",
       "      <td>59.3125</td>\n",
       "      <td>56.00000</td>\n",
       "      <td>58.28125</td>\n",
       "      <td>35.935863</td>\n",
       "      <td>53228400</td>\n",
       "    </tr>\n",
       "    <tr>\n",
       "      <th>2000-01-04</th>\n",
       "      <td>56.78125</td>\n",
       "      <td>58.5625</td>\n",
       "      <td>56.12500</td>\n",
       "      <td>56.31250</td>\n",
       "      <td>34.721935</td>\n",
       "      <td>54119000</td>\n",
       "    </tr>\n",
       "    <tr>\n",
       "      <th>2000-01-05</th>\n",
       "      <td>55.56250</td>\n",
       "      <td>58.1875</td>\n",
       "      <td>54.68750</td>\n",
       "      <td>56.90625</td>\n",
       "      <td>35.088047</td>\n",
       "      <td>64059600</td>\n",
       "    </tr>\n",
       "    <tr>\n",
       "      <th>2000-01-06</th>\n",
       "      <td>56.09375</td>\n",
       "      <td>56.9375</td>\n",
       "      <td>54.18750</td>\n",
       "      <td>55.00000</td>\n",
       "      <td>33.912663</td>\n",
       "      <td>54976600</td>\n",
       "    </tr>\n",
       "    <tr>\n",
       "      <th>2000-01-07</th>\n",
       "      <td>54.31250</td>\n",
       "      <td>56.1250</td>\n",
       "      <td>53.65625</td>\n",
       "      <td>55.71875</td>\n",
       "      <td>34.355831</td>\n",
       "      <td>62013600</td>\n",
       "    </tr>\n",
       "  </tbody>\n",
       "</table>\n",
       "</div>"
      ],
      "text/plain": [
       "                Open     High       Low     Close  Adj Close    Volume\n",
       "Date                                                                  \n",
       "2000-01-03  58.68750  59.3125  56.00000  58.28125  35.935863  53228400\n",
       "2000-01-04  56.78125  58.5625  56.12500  56.31250  34.721935  54119000\n",
       "2000-01-05  55.56250  58.1875  54.68750  56.90625  35.088047  64059600\n",
       "2000-01-06  56.09375  56.9375  54.18750  55.00000  33.912663  54976600\n",
       "2000-01-07  54.31250  56.1250  53.65625  55.71875  34.355831  62013600"
      ]
     },
     "execution_count": 2,
     "metadata": {},
     "output_type": "execute_result"
    }
   ],
   "source": [
    "microsoft.head()"
   ]
  },
  {
   "cell_type": "code",
   "execution_count": 3,
   "metadata": {
    "collapsed": true
   },
   "outputs": [
    {
     "data": {
      "text/html": [
       "<div>\n",
       "<style scoped>\n",
       "    .dataframe tbody tr th:only-of-type {\n",
       "        vertical-align: middle;\n",
       "    }\n",
       "\n",
       "    .dataframe tbody tr th {\n",
       "        vertical-align: top;\n",
       "    }\n",
       "\n",
       "    .dataframe thead th {\n",
       "        text-align: right;\n",
       "    }\n",
       "</style>\n",
       "<table border=\"1\" class=\"dataframe\">\n",
       "  <thead>\n",
       "    <tr style=\"text-align: right;\">\n",
       "      <th></th>\n",
       "      <th>Open</th>\n",
       "      <th>High</th>\n",
       "      <th>Low</th>\n",
       "      <th>Close</th>\n",
       "      <th>Adj Close</th>\n",
       "      <th>Volume</th>\n",
       "    </tr>\n",
       "    <tr>\n",
       "      <th>Date</th>\n",
       "      <th></th>\n",
       "      <th></th>\n",
       "      <th></th>\n",
       "      <th></th>\n",
       "      <th></th>\n",
       "      <th></th>\n",
       "    </tr>\n",
       "  </thead>\n",
       "  <tbody>\n",
       "    <tr>\n",
       "      <th>2024-08-26</th>\n",
       "      <td>416.369995</td>\n",
       "      <td>417.279999</td>\n",
       "      <td>411.339996</td>\n",
       "      <td>413.489990</td>\n",
       "      <td>413.489990</td>\n",
       "      <td>13152800</td>\n",
       "    </tr>\n",
       "    <tr>\n",
       "      <th>2024-08-27</th>\n",
       "      <td>412.859985</td>\n",
       "      <td>414.359985</td>\n",
       "      <td>410.250000</td>\n",
       "      <td>413.839996</td>\n",
       "      <td>413.839996</td>\n",
       "      <td>13492900</td>\n",
       "    </tr>\n",
       "    <tr>\n",
       "      <th>2024-08-28</th>\n",
       "      <td>414.880005</td>\n",
       "      <td>415.000000</td>\n",
       "      <td>407.309998</td>\n",
       "      <td>410.600006</td>\n",
       "      <td>410.600006</td>\n",
       "      <td>14882700</td>\n",
       "    </tr>\n",
       "    <tr>\n",
       "      <th>2024-08-29</th>\n",
       "      <td>414.940002</td>\n",
       "      <td>422.049988</td>\n",
       "      <td>410.600006</td>\n",
       "      <td>413.119995</td>\n",
       "      <td>413.119995</td>\n",
       "      <td>17045200</td>\n",
       "    </tr>\n",
       "    <tr>\n",
       "      <th>2024-08-30</th>\n",
       "      <td>415.600006</td>\n",
       "      <td>417.489990</td>\n",
       "      <td>412.130005</td>\n",
       "      <td>417.140015</td>\n",
       "      <td>417.140015</td>\n",
       "      <td>24298300</td>\n",
       "    </tr>\n",
       "  </tbody>\n",
       "</table>\n",
       "</div>"
      ],
      "text/plain": [
       "                  Open        High         Low       Close   Adj Close  \\\n",
       "Date                                                                     \n",
       "2024-08-26  416.369995  417.279999  411.339996  413.489990  413.489990   \n",
       "2024-08-27  412.859985  414.359985  410.250000  413.839996  413.839996   \n",
       "2024-08-28  414.880005  415.000000  407.309998  410.600006  410.600006   \n",
       "2024-08-29  414.940002  422.049988  410.600006  413.119995  413.119995   \n",
       "2024-08-30  415.600006  417.489990  412.130005  417.140015  417.140015   \n",
       "\n",
       "              Volume  \n",
       "Date                  \n",
       "2024-08-26  13152800  \n",
       "2024-08-27  13492900  \n",
       "2024-08-28  14882700  \n",
       "2024-08-29  17045200  \n",
       "2024-08-30  24298300  "
      ]
     },
     "execution_count": 3,
     "metadata": {},
     "output_type": "execute_result"
    }
   ],
   "source": [
    "microsoft.tail()"
   ]
  },
  {
   "cell_type": "markdown",
   "metadata": {
    "collapsed": true
   },
   "source": [
    "### Simple Rate of Return"
   ]
  },
  {
   "cell_type": "markdown",
   "metadata": {},
   "source": [
    "Calculate the simple returns of ‘MSFT’ for the given timeframe."
   ]
  },
  {
   "cell_type": "markdown",
   "metadata": {},
   "source": [
    "$$\n",
    "\\frac{P_1 - P_0}{P_0} = \\frac{P_1}{P_0} - 1\n",
    "$$"
   ]
  },
  {
   "cell_type": "code",
   "execution_count": 4,
   "metadata": {
    "collapsed": true
   },
   "outputs": [],
   "source": [
    "simple_return = (microsoft['Adj Close'] / microsoft['Adj Close'].shift(1)) - 1"
   ]
  },
  {
   "cell_type": "code",
   "execution_count": 5,
   "metadata": {},
   "outputs": [
    {
     "name": "stdout",
     "output_type": "stream",
     "text": [
      "Date\n",
      "2000-01-03         NaN\n",
      "2000-01-04   -0.033780\n",
      "2000-01-05    0.010544\n",
      "2000-01-06   -0.033498\n",
      "2000-01-07    0.013068\n",
      "                ...   \n",
      "2024-08-26   -0.007918\n",
      "2024-08-27    0.000846\n",
      "2024-08-28   -0.007829\n",
      "2024-08-29    0.006137\n",
      "2024-08-30    0.009731\n",
      "Name: Adj Close, Length: 6205, dtype: float64\n"
     ]
    }
   ],
   "source": [
    "print(simple_return)"
   ]
  },
  {
   "cell_type": "code",
   "execution_count": 10,
   "metadata": {},
   "outputs": [
    {
     "name": "stdout",
     "output_type": "stream",
     "text": [
      "14.439%\n"
     ]
    }
   ],
   "source": [
    "print(str(round(simple_return.mean()*250*100, 3)) + '%')"
   ]
  }
 ],
 "metadata": {
  "kernelspec": {
   "display_name": "Python 3",
   "language": "python",
   "name": "python3"
  },
  "language_info": {
   "codemirror_mode": {
    "name": "ipython",
    "version": 3
   },
   "file_extension": ".py",
   "mimetype": "text/x-python",
   "name": "python",
   "nbconvert_exporter": "python",
   "pygments_lexer": "ipython3",
   "version": "3.12.5"
  }
 },
 "nbformat": 4,
 "nbformat_minor": 2
}
