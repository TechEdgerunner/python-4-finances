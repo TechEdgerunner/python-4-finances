{
 "cells": [
  {
   "cell_type": "code",
   "execution_count": 5,
   "metadata": {},
   "outputs": [],
   "source": [
    "import pandas as pd\n",
    "import numpy as np\n",
    "import matplotlib.pyplot as plt\n",
    "import yfinance as yf\n",
    "import openpyxl"
   ]
  },
  {
   "cell_type": "code",
   "execution_count": 2,
   "metadata": {},
   "outputs": [
    {
     "name": "stderr",
     "output_type": "stream",
     "text": [
      "[*********************100%%**********************]  1 of 1 completed\n",
      "[*********************100%%**********************]  1 of 1 completed\n",
      "[*********************100%%**********************]  1 of 1 completed\n",
      "[*********************100%%**********************]  1 of 1 completed\n"
     ]
    }
   ],
   "source": [
    "ticker = ['PG', 'MSFT', 'F', 'GE']\n",
    "new_data = pd.DataFrame()\n",
    "for t in ticker:\n",
    "    new_data[t] = yf.download(t, start='2010-01-01')['Adj Close']"
   ]
  },
  {
   "cell_type": "code",
   "execution_count": 3,
   "metadata": {},
   "outputs": [
    {
     "name": "stdout",
     "output_type": "stream",
     "text": [
      "                    PG        MSFT          F          GE\n",
      "Date                                                     \n",
      "2010-01-04   39.663857   23.389399   5.756345   54.076008\n",
      "2010-01-05   39.676823   23.396961   6.137113   54.356003\n",
      "2010-01-06   39.488621   23.253374   6.366694   54.076008\n",
      "2010-01-07   39.274475   23.011543   6.529081   56.876057\n",
      "2010-01-08   39.222565   23.170250   6.545882   58.101086\n",
      "...                ...         ...        ...         ...\n",
      "2024-08-09  170.539993  406.019989  10.100000  167.130005\n",
      "2024-08-12  166.809998  406.809998   9.860000  166.869995\n",
      "2024-08-13  167.289993  414.010010  10.140000  167.960007\n",
      "2024-08-14  168.800003  416.859985  10.180000  167.949997\n",
      "2024-08-15  167.919998  421.029999  10.460000  169.940002\n",
      "\n",
      "[3679 rows x 4 columns]\n"
     ]
    }
   ],
   "source": [
    "print(new_data)"
   ]
  }
 ],
 "metadata": {
  "kernelspec": {
   "display_name": "Python 3",
   "language": "python",
   "name": "python3"
  },
  "language_info": {
   "codemirror_mode": {
    "name": "ipython",
    "version": 3
   },
   "file_extension": ".py",
   "mimetype": "text/x-python",
   "name": "python",
   "nbconvert_exporter": "python",
   "pygments_lexer": "ipython3",
   "version": "3.10.12"
  }
 },
 "nbformat": 4,
 "nbformat_minor": 2
}
