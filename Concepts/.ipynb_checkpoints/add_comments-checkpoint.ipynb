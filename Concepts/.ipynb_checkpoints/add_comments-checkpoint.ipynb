{
 "cells": [
  {
   "cell_type": "code",
   "execution_count": 1,
   "id": "99bb79b1-8064-4eae-8527-70ee4d7de3f9",
   "metadata": {},
   "outputs": [],
   "source": [
    "#This is just a comment, not code!"
   ]
  },
  {
   "cell_type": "code",
   "execution_count": 3,
   "id": "48a64f6b-7aa5-4df6-be97-e6a96f0d1377",
   "metadata": {},
   "outputs": [
    {
     "name": "stdout",
     "output_type": "stream",
     "text": [
      "7 2\n"
     ]
    }
   ],
   "source": [
    "#This is just a comment, not code!\n",
    "print (7,2)"
   ]
  },
  {
   "cell_type": "code",
   "execution_count": 4,
   "id": "278ce4eb-f7ba-4f1e-b009-74d97f711240",
   "metadata": {},
   "outputs": [
    {
     "name": "stdout",
     "output_type": "stream",
     "text": [
      "100\n"
     ]
    }
   ],
   "source": [
    "# Comment 1\n",
    "# Comment 2 \n",
    "print (100)"
   ]
  },
  {
   "cell_type": "code",
   "execution_count": null,
   "id": "fb9d91ac-55b0-45d5-b2d8-8dc95a7c5931",
   "metadata": {},
   "outputs": [],
   "source": []
  }
 ],
 "metadata": {
  "kernelspec": {
   "display_name": "Python 3 (ipykernel)",
   "language": "python",
   "name": "python3"
  },
  "language_info": {
   "codemirror_mode": {
    "name": "ipython",
    "version": 3
   },
   "file_extension": ".py",
   "mimetype": "text/x-python",
   "name": "python",
   "nbconvert_exporter": "python",
   "pygments_lexer": "ipython3",
   "version": "3.10.12"
  }
 },
 "nbformat": 4,
 "nbformat_minor": 5
}
